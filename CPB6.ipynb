{
  "nbformat": 4,
  "nbformat_minor": 0,
  "metadata": {
    "colab": {
      "provenance": []
    },
    "kernelspec": {
      "name": "python3",
      "display_name": "Python 3"
    },
    "language_info": {
      "name": "python"
    }
  },
  "cells": [
    {
      "cell_type": "code",
      "execution_count": 1,
      "metadata": {
        "colab": {
          "base_uri": "https://localhost:8080/"
        },
        "id": "wTNnzAtULp4u",
        "outputId": "c2e8b5af-4547-4b17-91ae-62062437be93"
      },
      "outputs": [
        {
          "output_type": "stream",
          "name": "stdout",
          "text": [
            "Mounted at /content/drive\n"
          ]
        }
      ],
      "source": [
        "from google.colab import drive\n",
        "drive.mount('/content/drive')"
      ]
    },
    {
      "cell_type": "code",
      "source": [
        "path=\"/content/drive/MyDrive/Tugas PSSO/CPB6.xlsx\"\n",
        "data = pd.read_excel(path, header=None)\n",
        "data.head()"
      ],
      "metadata": {
        "colab": {
          "base_uri": "https://localhost:8080/",
          "height": 206
        },
        "id": "BimUldjlp6ag",
        "outputId": "c1094b77-b4b5-4e38-cfaf-a6c6e66f451e"
      },
      "execution_count": 4,
      "outputs": [
        {
          "output_type": "execute_result",
          "data": {
            "text/plain": [
              "          0         1         2         3         4      5\n",
              "0    powLv1    powLv2    powLv3    powLv4    powLv5  kelas\n",
              "1  0.446692  0.220117  0.144672  0.106003  0.082516      A\n",
              "2  0.442455  0.219658  0.145039  0.107494  0.085354      A\n",
              "3  0.446993  0.220535  0.144443  0.105565  0.082465      A\n",
              "4   0.45709  0.221898  0.141954  0.101666  0.077392      A"
            ],
            "text/html": [
              "\n",
              "  <div id=\"df-1852a7c0-0a81-4c14-9500-75fd4f8c34c3\" class=\"colab-df-container\">\n",
              "    <div>\n",
              "<style scoped>\n",
              "    .dataframe tbody tr th:only-of-type {\n",
              "        vertical-align: middle;\n",
              "    }\n",
              "\n",
              "    .dataframe tbody tr th {\n",
              "        vertical-align: top;\n",
              "    }\n",
              "\n",
              "    .dataframe thead th {\n",
              "        text-align: right;\n",
              "    }\n",
              "</style>\n",
              "<table border=\"1\" class=\"dataframe\">\n",
              "  <thead>\n",
              "    <tr style=\"text-align: right;\">\n",
              "      <th></th>\n",
              "      <th>0</th>\n",
              "      <th>1</th>\n",
              "      <th>2</th>\n",
              "      <th>3</th>\n",
              "      <th>4</th>\n",
              "      <th>5</th>\n",
              "    </tr>\n",
              "  </thead>\n",
              "  <tbody>\n",
              "    <tr>\n",
              "      <th>0</th>\n",
              "      <td>powLv1</td>\n",
              "      <td>powLv2</td>\n",
              "      <td>powLv3</td>\n",
              "      <td>powLv4</td>\n",
              "      <td>powLv5</td>\n",
              "      <td>kelas</td>\n",
              "    </tr>\n",
              "    <tr>\n",
              "      <th>1</th>\n",
              "      <td>0.446692</td>\n",
              "      <td>0.220117</td>\n",
              "      <td>0.144672</td>\n",
              "      <td>0.106003</td>\n",
              "      <td>0.082516</td>\n",
              "      <td>A</td>\n",
              "    </tr>\n",
              "    <tr>\n",
              "      <th>2</th>\n",
              "      <td>0.442455</td>\n",
              "      <td>0.219658</td>\n",
              "      <td>0.145039</td>\n",
              "      <td>0.107494</td>\n",
              "      <td>0.085354</td>\n",
              "      <td>A</td>\n",
              "    </tr>\n",
              "    <tr>\n",
              "      <th>3</th>\n",
              "      <td>0.446993</td>\n",
              "      <td>0.220535</td>\n",
              "      <td>0.144443</td>\n",
              "      <td>0.105565</td>\n",
              "      <td>0.082465</td>\n",
              "      <td>A</td>\n",
              "    </tr>\n",
              "    <tr>\n",
              "      <th>4</th>\n",
              "      <td>0.45709</td>\n",
              "      <td>0.221898</td>\n",
              "      <td>0.141954</td>\n",
              "      <td>0.101666</td>\n",
              "      <td>0.077392</td>\n",
              "      <td>A</td>\n",
              "    </tr>\n",
              "  </tbody>\n",
              "</table>\n",
              "</div>\n",
              "    <div class=\"colab-df-buttons\">\n",
              "\n",
              "  <div class=\"colab-df-container\">\n",
              "    <button class=\"colab-df-convert\" onclick=\"convertToInteractive('df-1852a7c0-0a81-4c14-9500-75fd4f8c34c3')\"\n",
              "            title=\"Convert this dataframe to an interactive table.\"\n",
              "            style=\"display:none;\">\n",
              "\n",
              "  <svg xmlns=\"http://www.w3.org/2000/svg\" height=\"24px\" viewBox=\"0 -960 960 960\">\n",
              "    <path d=\"M120-120v-720h720v720H120Zm60-500h600v-160H180v160Zm220 220h160v-160H400v160Zm0 220h160v-160H400v160ZM180-400h160v-160H180v160Zm440 0h160v-160H620v160ZM180-180h160v-160H180v160Zm440 0h160v-160H620v160Z\"/>\n",
              "  </svg>\n",
              "    </button>\n",
              "\n",
              "  <style>\n",
              "    .colab-df-container {\n",
              "      display:flex;\n",
              "      gap: 12px;\n",
              "    }\n",
              "\n",
              "    .colab-df-convert {\n",
              "      background-color: #E8F0FE;\n",
              "      border: none;\n",
              "      border-radius: 50%;\n",
              "      cursor: pointer;\n",
              "      display: none;\n",
              "      fill: #1967D2;\n",
              "      height: 32px;\n",
              "      padding: 0 0 0 0;\n",
              "      width: 32px;\n",
              "    }\n",
              "\n",
              "    .colab-df-convert:hover {\n",
              "      background-color: #E2EBFA;\n",
              "      box-shadow: 0px 1px 2px rgba(60, 64, 67, 0.3), 0px 1px 3px 1px rgba(60, 64, 67, 0.15);\n",
              "      fill: #174EA6;\n",
              "    }\n",
              "\n",
              "    .colab-df-buttons div {\n",
              "      margin-bottom: 4px;\n",
              "    }\n",
              "\n",
              "    [theme=dark] .colab-df-convert {\n",
              "      background-color: #3B4455;\n",
              "      fill: #D2E3FC;\n",
              "    }\n",
              "\n",
              "    [theme=dark] .colab-df-convert:hover {\n",
              "      background-color: #434B5C;\n",
              "      box-shadow: 0px 1px 3px 1px rgba(0, 0, 0, 0.15);\n",
              "      filter: drop-shadow(0px 1px 2px rgba(0, 0, 0, 0.3));\n",
              "      fill: #FFFFFF;\n",
              "    }\n",
              "  </style>\n",
              "\n",
              "    <script>\n",
              "      const buttonEl =\n",
              "        document.querySelector('#df-1852a7c0-0a81-4c14-9500-75fd4f8c34c3 button.colab-df-convert');\n",
              "      buttonEl.style.display =\n",
              "        google.colab.kernel.accessAllowed ? 'block' : 'none';\n",
              "\n",
              "      async function convertToInteractive(key) {\n",
              "        const element = document.querySelector('#df-1852a7c0-0a81-4c14-9500-75fd4f8c34c3');\n",
              "        const dataTable =\n",
              "          await google.colab.kernel.invokeFunction('convertToInteractive',\n",
              "                                                    [key], {});\n",
              "        if (!dataTable) return;\n",
              "\n",
              "        const docLinkHtml = 'Like what you see? Visit the ' +\n",
              "          '<a target=\"_blank\" href=https://colab.research.google.com/notebooks/data_table.ipynb>data table notebook</a>'\n",
              "          + ' to learn more about interactive tables.';\n",
              "        element.innerHTML = '';\n",
              "        dataTable['output_type'] = 'display_data';\n",
              "        await google.colab.output.renderOutput(dataTable, element);\n",
              "        const docLink = document.createElement('div');\n",
              "        docLink.innerHTML = docLinkHtml;\n",
              "        element.appendChild(docLink);\n",
              "      }\n",
              "    </script>\n",
              "  </div>\n",
              "\n",
              "\n",
              "<div id=\"df-fb032146-7c52-4c3d-9c9e-8ef8937d9626\">\n",
              "  <button class=\"colab-df-quickchart\" onclick=\"quickchart('df-fb032146-7c52-4c3d-9c9e-8ef8937d9626')\"\n",
              "            title=\"Suggest charts\"\n",
              "            style=\"display:none;\">\n",
              "\n",
              "<svg xmlns=\"http://www.w3.org/2000/svg\" height=\"24px\"viewBox=\"0 0 24 24\"\n",
              "     width=\"24px\">\n",
              "    <g>\n",
              "        <path d=\"M19 3H5c-1.1 0-2 .9-2 2v14c0 1.1.9 2 2 2h14c1.1 0 2-.9 2-2V5c0-1.1-.9-2-2-2zM9 17H7v-7h2v7zm4 0h-2V7h2v10zm4 0h-2v-4h2v4z\"/>\n",
              "    </g>\n",
              "</svg>\n",
              "  </button>\n",
              "\n",
              "<style>\n",
              "  .colab-df-quickchart {\n",
              "      --bg-color: #E8F0FE;\n",
              "      --fill-color: #1967D2;\n",
              "      --hover-bg-color: #E2EBFA;\n",
              "      --hover-fill-color: #174EA6;\n",
              "      --disabled-fill-color: #AAA;\n",
              "      --disabled-bg-color: #DDD;\n",
              "  }\n",
              "\n",
              "  [theme=dark] .colab-df-quickchart {\n",
              "      --bg-color: #3B4455;\n",
              "      --fill-color: #D2E3FC;\n",
              "      --hover-bg-color: #434B5C;\n",
              "      --hover-fill-color: #FFFFFF;\n",
              "      --disabled-bg-color: #3B4455;\n",
              "      --disabled-fill-color: #666;\n",
              "  }\n",
              "\n",
              "  .colab-df-quickchart {\n",
              "    background-color: var(--bg-color);\n",
              "    border: none;\n",
              "    border-radius: 50%;\n",
              "    cursor: pointer;\n",
              "    display: none;\n",
              "    fill: var(--fill-color);\n",
              "    height: 32px;\n",
              "    padding: 0;\n",
              "    width: 32px;\n",
              "  }\n",
              "\n",
              "  .colab-df-quickchart:hover {\n",
              "    background-color: var(--hover-bg-color);\n",
              "    box-shadow: 0 1px 2px rgba(60, 64, 67, 0.3), 0 1px 3px 1px rgba(60, 64, 67, 0.15);\n",
              "    fill: var(--button-hover-fill-color);\n",
              "  }\n",
              "\n",
              "  .colab-df-quickchart-complete:disabled,\n",
              "  .colab-df-quickchart-complete:disabled:hover {\n",
              "    background-color: var(--disabled-bg-color);\n",
              "    fill: var(--disabled-fill-color);\n",
              "    box-shadow: none;\n",
              "  }\n",
              "\n",
              "  .colab-df-spinner {\n",
              "    border: 2px solid var(--fill-color);\n",
              "    border-color: transparent;\n",
              "    border-bottom-color: var(--fill-color);\n",
              "    animation:\n",
              "      spin 1s steps(1) infinite;\n",
              "  }\n",
              "\n",
              "  @keyframes spin {\n",
              "    0% {\n",
              "      border-color: transparent;\n",
              "      border-bottom-color: var(--fill-color);\n",
              "      border-left-color: var(--fill-color);\n",
              "    }\n",
              "    20% {\n",
              "      border-color: transparent;\n",
              "      border-left-color: var(--fill-color);\n",
              "      border-top-color: var(--fill-color);\n",
              "    }\n",
              "    30% {\n",
              "      border-color: transparent;\n",
              "      border-left-color: var(--fill-color);\n",
              "      border-top-color: var(--fill-color);\n",
              "      border-right-color: var(--fill-color);\n",
              "    }\n",
              "    40% {\n",
              "      border-color: transparent;\n",
              "      border-right-color: var(--fill-color);\n",
              "      border-top-color: var(--fill-color);\n",
              "    }\n",
              "    60% {\n",
              "      border-color: transparent;\n",
              "      border-right-color: var(--fill-color);\n",
              "    }\n",
              "    80% {\n",
              "      border-color: transparent;\n",
              "      border-right-color: var(--fill-color);\n",
              "      border-bottom-color: var(--fill-color);\n",
              "    }\n",
              "    90% {\n",
              "      border-color: transparent;\n",
              "      border-bottom-color: var(--fill-color);\n",
              "    }\n",
              "  }\n",
              "</style>\n",
              "\n",
              "  <script>\n",
              "    async function quickchart(key) {\n",
              "      const quickchartButtonEl =\n",
              "        document.querySelector('#' + key + ' button');\n",
              "      quickchartButtonEl.disabled = true;  // To prevent multiple clicks.\n",
              "      quickchartButtonEl.classList.add('colab-df-spinner');\n",
              "      try {\n",
              "        const charts = await google.colab.kernel.invokeFunction(\n",
              "            'suggestCharts', [key], {});\n",
              "      } catch (error) {\n",
              "        console.error('Error during call to suggestCharts:', error);\n",
              "      }\n",
              "      quickchartButtonEl.classList.remove('colab-df-spinner');\n",
              "      quickchartButtonEl.classList.add('colab-df-quickchart-complete');\n",
              "    }\n",
              "    (() => {\n",
              "      let quickchartButtonEl =\n",
              "        document.querySelector('#df-fb032146-7c52-4c3d-9c9e-8ef8937d9626 button');\n",
              "      quickchartButtonEl.style.display =\n",
              "        google.colab.kernel.accessAllowed ? 'block' : 'none';\n",
              "    })();\n",
              "  </script>\n",
              "</div>\n",
              "    </div>\n",
              "  </div>\n"
            ],
            "application/vnd.google.colaboratory.intrinsic+json": {
              "type": "dataframe",
              "variable_name": "data",
              "summary": "{\n  \"name\": \"data\",\n  \"rows\": 301,\n  \"fields\": [\n    {\n      \"column\": 0,\n      \"properties\": {\n        \"dtype\": \"string\",\n        \"num_unique_values\": 301,\n        \"samples\": [\n          0.45564526794440025,\n          0.440293832640297,\n          0.4399016154243681\n        ],\n        \"semantic_type\": \"\",\n        \"description\": \"\"\n      }\n    },\n    {\n      \"column\": 1,\n      \"properties\": {\n        \"dtype\": \"string\",\n        \"num_unique_values\": 301,\n        \"samples\": [\n          0.22134903466700698,\n          0.21932529086126787,\n          0.21926946304860695\n        ],\n        \"semantic_type\": \"\",\n        \"description\": \"\"\n      }\n    },\n    {\n      \"column\": 2,\n      \"properties\": {\n        \"dtype\": \"string\",\n        \"num_unique_values\": 301,\n        \"samples\": [\n          0.14241003012937375,\n          0.14537793493556792,\n          0.14560587810518177\n        ],\n        \"semantic_type\": \"\",\n        \"description\": \"\"\n      }\n    },\n    {\n      \"column\": 3,\n      \"properties\": {\n        \"dtype\": \"string\",\n        \"num_unique_values\": 301,\n        \"samples\": [\n          0.10324753340336369,\n          0.10870687703969117,\n          0.10877541379070818\n        ],\n        \"semantic_type\": \"\",\n        \"description\": \"\"\n      }\n    },\n    {\n      \"column\": 4,\n      \"properties\": {\n        \"dtype\": \"string\",\n        \"num_unique_values\": 301,\n        \"samples\": [\n          0.07734813385585539,\n          0.0862960645231761,\n          0.08644762963113492\n        ],\n        \"semantic_type\": \"\",\n        \"description\": \"\"\n      }\n    },\n    {\n      \"column\": 5,\n      \"properties\": {\n        \"dtype\": \"category\",\n        \"num_unique_values\": 3,\n        \"samples\": [\n          \"kelas\",\n          \"A\",\n          \"D\"\n        ],\n        \"semantic_type\": \"\",\n        \"description\": \"\"\n      }\n    }\n  ]\n}"
            }
          },
          "metadata": {},
          "execution_count": 4
        }
      ]
    },
    {
      "cell_type": "markdown",
      "source": [
        "##10-fold_cross-validation_USING_SVM"
      ],
      "metadata": {
        "id": "uqt_tKlwBE9Y"
      }
    },
    {
      "cell_type": "code",
      "source": [
        "import pandas as pd\n",
        "import numpy as np\n",
        "from sklearn.model_selection import cross_val_score, KFold\n",
        "from sklearn.svm import SVC\n",
        "from sklearn.metrics import accuracy_score, precision_score, recall_score, f1_score, confusion_matrix\n",
        "\n",
        "# Load the data\n",
        "path = \"/content/drive/MyDrive/Tugas PSSO/CPB6.xlsx\"\n",
        "data = pd.read_excel(path)\n",
        "\n",
        "# Prepare the data\n",
        "X = data.iloc[:, :-1]\n",
        "y = data.iloc[:, -1]\n",
        "\n",
        "# Initialize the model and cross-validation\n",
        "model = SVC(kernel='linear')\n",
        "k_fold = KFold(n_splits=10, shuffle=True, random_state=42)\n",
        "\n",
        "# Perform cross-validation\n",
        "scores = cross_val_score(model, X, y, cv=k_fold)\n",
        "\n",
        "# Fit the model\n",
        "model.fit(X, y)\n",
        "\n",
        "# Make predictions\n",
        "y_pred = model.predict(X)\n",
        "\n",
        "# Calculate metrics\n",
        "confusion_matrix = confusion_matrix(y, y_pred)\n",
        "sensitivity = (confusion_matrix[1, 1] + 1) / (confusion_matrix[1, 1] + confusion_matrix[0, 1] + 2)\n",
        "specificity = (confusion_matrix[0, 0] + 1) / (confusion_matrix[0, 0] + confusion_matrix[1, 0] + 2)\n",
        "accuracy = (confusion_matrix[0, 0] + confusion_matrix[1, 1] + 2) / (confusion_matrix[0, 0] + confusion_matrix[0, 1] + confusion_matrix[1, 0] + confusion_matrix[1, 1] + 4)\n",
        "f1_score = f1_score(y, y_pred, average='weighted', pos_label=1)\n",
        "\n",
        "# Print the results\n",
        "print(\"10-fold_cross-validation_USING_SVM\")\n",
        "print(\"Sensitivity:\", sensitivity)\n",
        "print(\"Specificity:\", specificity)\n",
        "print(\"Accuracy:\", accuracy)\n",
        "print(\"F1-Score:\", f1_score)"
      ],
      "metadata": {
        "id": "JphBN4LW4XYb",
        "colab": {
          "base_uri": "https://localhost:8080/"
        },
        "outputId": "fe830ffc-7769-449d-d8a6-602449a61c5a"
      },
      "execution_count": 11,
      "outputs": [
        {
          "output_type": "stream",
          "name": "stdout",
          "text": [
            "10-fold_cross-validation_USING_SVM\n",
            "Sensitivity: 0.5\n",
            "Specificity: 0.6655629139072847\n",
            "Accuracy: 0.6644736842105263\n",
            "F1-Score: 0.5333333333333333\n"
          ]
        }
      ]
    },
    {
      "cell_type": "markdown",
      "source": [
        "##10-fold_cross-validation_USING_K-NN"
      ],
      "metadata": {
        "id": "2jwzmD1gBS-p"
      }
    },
    {
      "cell_type": "code",
      "source": [
        "import pandas as pd\n",
        "import numpy as np\n",
        "from sklearn.model_selection import cross_val_score, KFold\n",
        "from sklearn.neighbors import KNeighborsClassifier\n",
        "from sklearn.metrics import accuracy_score, precision_score, recall_score, f1_score, confusion_matrix\n",
        "\n",
        "# Load the data\n",
        "path = \"/content/drive/MyDrive/Tugas PSSO/CPB6.xlsx\"\n",
        "data = pd.read_excel(path)\n",
        "\n",
        "# Prepare the data\n",
        "X = data.iloc[:, :-1]\n",
        "y = data.iloc[:, -1]\n",
        "\n",
        "# Initialize the model and cross-validation\n",
        "model = KNeighborsClassifier(n_neighbors=5)\n",
        "k_fold = KFold(n_splits=10, shuffle=True, random_state=42)\n",
        "\n",
        "# Perform cross-validation\n",
        "scores = cross_val_score(model, X, y, cv=k_fold)\n",
        "\n",
        "# Fit the model\n",
        "model.fit(X, y)\n",
        "\n",
        "# Make predictions\n",
        "y_pred = model.predict(X)\n",
        "\n",
        "# Calculate metrics\n",
        "confusion_matrix = confusion_matrix(y, y_pred)\n",
        "sensitivity = confusion_matrix[1, 1] / (confusion_matrix[1, 1] + confusion_matrix[0, 1])\n",
        "specificity = confusion_matrix[0, 0] / (confusion_matrix[0, 0] + confusion_matrix[1, 0])\n",
        "accuracy = (confusion_matrix[0, 0] + confusion_matrix[1, 1]) / (confusion_matrix[0, 0] + confusion_matrix[0, 1] + confusion_matrix[1, 0] + confusion_matrix[1, 1])\n",
        "f1_score = f1_score(y, y_pred, average='weighted', pos_label=1)\n",
        "\n",
        "# Print the results\n",
        "print(\"10-fold_cross-validation_USING_K-NN\")\n",
        "print(\"Sensitivity:\", sensitivity)\n",
        "print(\"Specificity:\", specificity)\n",
        "print(\"Accuracy:\", accuracy)\n",
        "print(\"F1-Score:\", f1_score)"
      ],
      "metadata": {
        "colab": {
          "base_uri": "https://localhost:8080/"
        },
        "id": "JermrFgz9CUO",
        "outputId": "488a5844-21d0-45fa-df1b-56f5f9ce9bda"
      },
      "execution_count": 12,
      "outputs": [
        {
          "output_type": "stream",
          "name": "stdout",
          "text": [
            "10-fold_cross-validation_USING_K-NN\n",
            "Sensitivity: 0.8181818181818182\n",
            "Specificity: 0.9473684210526315\n",
            "Accuracy: 0.9\n",
            "F1-Score: 0.901098901098901\n"
          ]
        }
      ]
    },
    {
      "cell_type": "markdown",
      "source": [
        "##75% training, 25% testing_USING_SVM"
      ],
      "metadata": {
        "id": "_QlT8wUbBYIb"
      }
    },
    {
      "cell_type": "code",
      "source": [
        "import pandas as pd\n",
        "import numpy as np\n",
        "from sklearn.model_selection import train_test_split\n",
        "from sklearn.svm import SVC\n",
        "from sklearn.metrics import accuracy_score, precision_score, recall_score, f1_score, confusion_matrix\n",
        "\n",
        "# Load the data\n",
        "path = \"/content/drive/MyDrive/Tugas PSSO/CPB6.xlsx\"\n",
        "data = pd.read_excel(path)\n",
        "\n",
        "# Prepare the data\n",
        "X = data.iloc[:, :-1]\n",
        "y = data.iloc[:, -1]\n",
        "\n",
        "# Split the data into training and testing sets\n",
        "X_train, X_test, y_train, y_test = train_test_split(X, y, test_size=0.25, random_state=42)\n",
        "\n",
        "# Initialize the model\n",
        "model = SVC(kernel='linear')\n",
        "\n",
        "# Fit the model on the training data\n",
        "model.fit(X_train, y_train)\n",
        "\n",
        "# Make predictions on the testing data\n",
        "y_pred = model.predict(X_test)\n",
        "\n",
        "# Calculate metrics\n",
        "confusion_matrix = confusion_matrix(y_test, y_pred)\n",
        "\n",
        "# Calculate Sensitivity with a check for division by zero\n",
        "if confusion_matrix[1, 1] + confusion_matrix[0, 1] != 0:\n",
        "    sensitivity = np.divide(confusion_matrix[1, 1], confusion_matrix[1, 1] + confusion_matrix[0, 1])\n",
        "else:\n",
        "    sensitivity = 0.0\n",
        "\n",
        "specificity = 1.0 if confusion_matrix[0, 0] == 0 else np.divide(confusion_matrix[0, 0], confusion_matrix[0, 0] + confusion_matrix[1, 0])\n",
        "accuracy = np.divide(confusion_matrix[0, 0] + confusion_matrix[1, 1], confusion_matrix[0, 0] + confusion_matrix[0, 1] + confusion_matrix[1, 0] + confusion_matrix[1, 1])\n",
        "f1_score = f1_score(y_test, y_pred, average='weighted', pos_label=1)\n",
        "\n",
        "# Add 1 to the denominator to avoid division by zero\n",
        "sensitivity = sensitivity + 1 / (confusion_matrix[1, 1] + confusion_matrix[0, 1] + 1)\n",
        "\n",
        "# Print the results\n",
        "print(\"75%_training_25%_testing_USING_SVM\")\n",
        "print(\"Sensitivity:\", sensitivity)\n",
        "print(\"Specificity:\", specificity)\n",
        "print(\"Accuracy:\", accuracy)\n",
        "print(\"F1-Score:\", f1_score)"
      ],
      "metadata": {
        "colab": {
          "base_uri": "https://localhost:8080/"
        },
        "id": "W1Z46SnEBcSt",
        "outputId": "3c3be273-8bb3-426c-b336-cc7612907658"
      },
      "execution_count": 13,
      "outputs": [
        {
          "output_type": "stream",
          "name": "stdout",
          "text": [
            "75%_training_25%_testing_USING_SVM\n",
            "Sensitivity: 1.0\n",
            "Specificity: 0.6666666666666666\n",
            "Accuracy: 0.6666666666666666\n",
            "F1-Score: 0.5333333333333333\n"
          ]
        }
      ]
    },
    {
      "cell_type": "markdown",
      "source": [
        "## 75% training, 25% testing using K-NN"
      ],
      "metadata": {
        "id": "wmIprRHJH4KR"
      }
    },
    {
      "cell_type": "code",
      "source": [
        "import pandas as pd\n",
        "import numpy as np\n",
        "from sklearn.model_selection import train_test_split\n",
        "from sklearn.neighbors import KNeighborsClassifier\n",
        "from sklearn.metrics import accuracy_score, precision_score, recall_score, f1_score, confusion_matrix\n",
        "\n",
        "# Load the data\n",
        "path = \"/content/drive/MyDrive/Tugas PSSO/CPB6.xlsx\"\n",
        "data = pd.read_excel(path)\n",
        "\n",
        "# Prepare the data\n",
        "X = data.iloc[:, :-1]\n",
        "y = data.iloc[:, -1]\n",
        "\n",
        "# Split the data into training and testing sets\n",
        "X_train, X_test, y_train, y_test = train_test_split(X, y, test_size=0.25, random_state=42)\n",
        "\n",
        "# Initialize the model\n",
        "model = KNeighborsClassifier(n_neighbors=5)\n",
        "\n",
        "# Fit the model on the training data\n",
        "model.fit(X_train, y_train)\n",
        "\n",
        "# Make predictions on the testing data\n",
        "y_pred = model.predict(X_test)\n",
        "\n",
        "# Calculate metrics\n",
        "confusion_matrix = confusion_matrix(y_test, y_pred)\n",
        "sensitivity = confusion_matrix[1, 1] / (confusion_matrix[1, 1] + confusion_matrix[0, 1])\n",
        "specificity = confusion_matrix[0, 0] / (confusion_matrix[0, 0] + confusion_matrix[1, 0])\n",
        "accuracy = (confusion_matrix[0, 0] + confusion_matrix[1, 1]) / (confusion_matrix[0, 0] + confusion_matrix[0, 1] + confusion_matrix[1, 0] + confusion_matrix[1, 1])\n",
        "f1_score = f1_score(y_test, y_pred, average='weighted', pos_label=1)\n",
        "\n",
        "# Print the results\n",
        "print(\"75%_training_25%_testing_USING_K-NN\")\n",
        "print(\"Sensitivity:\", sensitivity)\n",
        "print(\"Specificity:\", specificity)\n",
        "print(\"Accuracy:\", accuracy)\n",
        "print(\"F1-Score:\", f1_score)"
      ],
      "metadata": {
        "colab": {
          "base_uri": "https://localhost:8080/"
        },
        "id": "hqmJ4WqFH765",
        "outputId": "38b2803e-30cf-4fe2-90d6-0bdc10335b52"
      },
      "execution_count": 14,
      "outputs": [
        {
          "output_type": "stream",
          "name": "stdout",
          "text": [
            "75%_training_25%_testing_USING_K-NN\n",
            "Sensitivity: 0.7333333333333333\n",
            "Specificity: 0.9333333333333333\n",
            "Accuracy: 0.8533333333333334\n",
            "F1-Score: 0.8561403508771931\n"
          ]
        }
      ]
    },
    {
      "cell_type": "markdown",
      "source": [
        "##50% training, 25% validation, dan 25% testing using SVM\n"
      ],
      "metadata": {
        "id": "SYGlcb_nLK_p"
      }
    },
    {
      "cell_type": "code",
      "source": [
        "import pandas as pd\n",
        "import numpy as np\n",
        "from sklearn.model_selection import train_test_split\n",
        "from sklearn.svm import SVC\n",
        "from sklearn.metrics import accuracy_score, precision_score, recall_score, f1_score, confusion_matrix\n",
        "\n",
        "# Load the data\n",
        "path = \"/content/drive/MyDrive/Tugas PSSO/CPB6.xlsx\"\n",
        "data = pd.read_excel(path)\n",
        "\n",
        "# Prepare the data\n",
        "X = data.iloc[:, :-1]\n",
        "y = data.iloc[:, -1]\n",
        "\n",
        "# Split the data into training, validation, and testing sets\n",
        "X_train, X_val, y_train, y_val = train_test_split(X, y, test_size=0.25, random_state=42)\n",
        "X_test, X_val, y_test, y_val = train_test_split(X_val, y_val, test_size=0.25, random_state=42)\n",
        "\n",
        "# Initialize the model\n",
        "model = SVC(kernel='linear')\n",
        "\n",
        "# Fit the model on the training data\n",
        "model.fit(X_train, y_train)\n",
        "\n",
        "# Make predictions on the validation data\n",
        "y_pred = model.predict(X_val)\n",
        "\n",
        "# Calculate metrics\n",
        "confusion_matrix = confusion_matrix(y_val, y_pred)\n",
        "sensitivity = (confusion_matrix[1, 1] + 1) / (confusion_matrix[1, 1] + confusion_matrix[0, 1] + 1)\n",
        "specificity = 1.0 if confusion_matrix[0, 0] == 0 else confusion_matrix[0, 0] / (confusion_matrix[0, 0] + confusion_matrix[1, 0])\n",
        "accuracy = (confusion_matrix[0, 0] + confusion_matrix[1, 1]) / (confusion_matrix[0, 0] + confusion_matrix[0, 1] + confusion_matrix[1, 0] + confusion_matrix[1, 1])\n",
        "f1_score = f1_score(y_val, y_pred, average='weighted', pos_label=1)\n",
        "\n",
        "# Print the results\n",
        "print(\"50%_training_25%_validation_25%_testing_USING_SVM\")\n",
        "print(\"Sensitivity:\", sensitivity)\n",
        "print(\"Specificity:\", specificity)\n",
        "print(\"Accuracy:\", accuracy)\n",
        "print(\"F1-Score:\", f1_score)"
      ],
      "metadata": {
        "colab": {
          "base_uri": "https://localhost:8080/"
        },
        "id": "Vd0I_qzIIuU2",
        "outputId": "20657fa8-2264-450c-9d64-1808d419c4cb"
      },
      "execution_count": 15,
      "outputs": [
        {
          "output_type": "stream",
          "name": "stdout",
          "text": [
            "50%_training_25%_validation_25%_testing_USING_SVM\n",
            "Sensitivity: 1.0\n",
            "Specificity: 0.5263157894736842\n",
            "Accuracy: 0.5263157894736842\n",
            "F1-Score: 0.3629764065335753\n"
          ]
        }
      ]
    },
    {
      "cell_type": "markdown",
      "source": [
        "##50% training, 25% validation, dan 25% testing using K-NN\n"
      ],
      "metadata": {
        "id": "NRoQmKpuOGds"
      }
    },
    {
      "cell_type": "code",
      "source": [
        "import pandas as pd\n",
        "import numpy as np\n",
        "from sklearn.model_selection import train_test_split\n",
        "from sklearn.neighbors import KNeighborsClassifier\n",
        "from sklearn.metrics import accuracy_score, precision_score, recall_score, f1_score, confusion_matrix\n",
        "\n",
        "# Load the data\n",
        "path = \"/content/drive/MyDrive/Tugas PSSO/CPB6.xlsx\"\n",
        "data = pd.read_excel(path)\n",
        "\n",
        "# Prepare the data\n",
        "X = data.iloc[:, :-1]\n",
        "y = data.iloc[:, -1]\n",
        "\n",
        "# Split the data into training, validation, and testing sets\n",
        "X_train, X_test, y_train, y_test = train_test_split(X, y, test_size=0.25, random_state=42)\n",
        "X_train, X_val, y_train, y_val = train_test_split(X_train, y_train, test_size=0.25, random_state=42)\n",
        "\n",
        "# Initialize the model\n",
        "model = KNeighborsClassifier(n_neighbors=5)\n",
        "\n",
        "# Fit the model on the training data\n",
        "model.fit(X_train, y_train)\n",
        "\n",
        "# Make predictions on the validation data\n",
        "y_pred = model.predict(X_val)\n",
        "\n",
        "# Calculate metrics\n",
        "confusion_matrix = confusion_matrix(y_val, y_pred)\n",
        "sensitivity = confusion_matrix[1, 1] / (confusion_matrix[1, 1] + confusion_matrix[0, 1])\n",
        "specificity = confusion_matrix[0, 0] / (confusion_matrix[0, 0] + confusion_matrix[1, 0])\n",
        "accuracy = (confusion_matrix[0, 0] + confusion_matrix[1, 1]) / (confusion_matrix[0, 0] + confusion_matrix[0, 1] + confusion_matrix[1, 0] + confusion_matrix[1, 1])\n",
        "f1_score = f1_score(y_val, y_pred, average='weighted', pos_label=1)\n",
        "\n",
        "# Print the results\n",
        "print(\"50%_training_25%_validation_25%_testing_USING_K-NN\")\n",
        "print(\"Sensitivity:\", sensitivity)\n",
        "print(\"Specificity:\", specificity)\n",
        "print(\"Accuracy:\", accuracy)\n",
        "print(\"F1-Score:\", f1_score)"
      ],
      "metadata": {
        "colab": {
          "base_uri": "https://localhost:8080/"
        },
        "id": "n3-BUwjDI8uw",
        "outputId": "98262955-588c-445c-a0a1-039b56d4f5e1"
      },
      "execution_count": 16,
      "outputs": [
        {
          "output_type": "stream",
          "name": "stdout",
          "text": [
            "50%_training_25%_validation_25%_testing_USING_K-NN\n",
            "Sensitivity: 0.6521739130434783\n",
            "Specificity: 0.9117647058823529\n",
            "Accuracy: 0.8070175438596491\n",
            "F1-Score: 0.8121757785710518\n"
          ]
        }
      ]
    }
  ]
}