{
  "nbformat": 4,
  "nbformat_minor": 0,
  "metadata": {
    "colab": {
      "provenance": []
    },
    "kernelspec": {
      "name": "python3",
      "display_name": "Python 3"
    },
    "language_info": {
      "name": "python"
    }
  },
  "cells": [
    {
      "cell_type": "code",
      "source": [
        "from google.colab import drive\n",
        "drive.mount('/content/drive')"
      ],
      "metadata": {
        "colab": {
          "base_uri": "https://localhost:8080/"
        },
        "id": "YxfMlG3tpp6G",
        "outputId": "ae6f2330-5dc6-421f-e27d-6da873a4e2cb"
      },
      "execution_count": 1,
      "outputs": [
        {
          "output_type": "stream",
          "name": "stdout",
          "text": [
            "Mounted at /content/drive\n"
          ]
        }
      ]
    },
    {
      "cell_type": "code",
      "source": [
        "path=\"/content/drive/MyDrive/Tugas PSSO/CPA3.xlsx\"\n",
        "data = pd.read_excel(path, header=None)\n",
        "data.head()"
      ],
      "metadata": {
        "colab": {
          "base_uri": "https://localhost:8080/",
          "height": 206
        },
        "id": "BimUldjlp6ag",
        "outputId": "91b8db88-16d0-46c6-cbaf-66d68bd04562"
      },
      "execution_count": null,
      "outputs": [
        {
          "output_type": "execute_result",
          "data": {
            "text/plain": [
              "          0         1         2         3         4      5\n",
              "0    powLv1    powLv2    powLv3    powLv4    powLv5  kelas\n",
              "1  0.446692  0.220117  0.144672  0.106003  0.082516      A\n",
              "2  0.442455  0.219658  0.145039  0.107494  0.085354      A\n",
              "3  0.446993  0.220535  0.144443  0.105565  0.082465      A\n",
              "4   0.45709  0.221898  0.141954  0.101666  0.077392      A"
            ],
            "text/html": [
              "\n",
              "  <div id=\"df-20cc64e7-5be4-461a-9043-dbd8ed786b5c\" class=\"colab-df-container\">\n",
              "    <div>\n",
              "<style scoped>\n",
              "    .dataframe tbody tr th:only-of-type {\n",
              "        vertical-align: middle;\n",
              "    }\n",
              "\n",
              "    .dataframe tbody tr th {\n",
              "        vertical-align: top;\n",
              "    }\n",
              "\n",
              "    .dataframe thead th {\n",
              "        text-align: right;\n",
              "    }\n",
              "</style>\n",
              "<table border=\"1\" class=\"dataframe\">\n",
              "  <thead>\n",
              "    <tr style=\"text-align: right;\">\n",
              "      <th></th>\n",
              "      <th>0</th>\n",
              "      <th>1</th>\n",
              "      <th>2</th>\n",
              "      <th>3</th>\n",
              "      <th>4</th>\n",
              "      <th>5</th>\n",
              "    </tr>\n",
              "  </thead>\n",
              "  <tbody>\n",
              "    <tr>\n",
              "      <th>0</th>\n",
              "      <td>powLv1</td>\n",
              "      <td>powLv2</td>\n",
              "      <td>powLv3</td>\n",
              "      <td>powLv4</td>\n",
              "      <td>powLv5</td>\n",
              "      <td>kelas</td>\n",
              "    </tr>\n",
              "    <tr>\n",
              "      <th>1</th>\n",
              "      <td>0.446692</td>\n",
              "      <td>0.220117</td>\n",
              "      <td>0.144672</td>\n",
              "      <td>0.106003</td>\n",
              "      <td>0.082516</td>\n",
              "      <td>A</td>\n",
              "    </tr>\n",
              "    <tr>\n",
              "      <th>2</th>\n",
              "      <td>0.442455</td>\n",
              "      <td>0.219658</td>\n",
              "      <td>0.145039</td>\n",
              "      <td>0.107494</td>\n",
              "      <td>0.085354</td>\n",
              "      <td>A</td>\n",
              "    </tr>\n",
              "    <tr>\n",
              "      <th>3</th>\n",
              "      <td>0.446993</td>\n",
              "      <td>0.220535</td>\n",
              "      <td>0.144443</td>\n",
              "      <td>0.105565</td>\n",
              "      <td>0.082465</td>\n",
              "      <td>A</td>\n",
              "    </tr>\n",
              "    <tr>\n",
              "      <th>4</th>\n",
              "      <td>0.45709</td>\n",
              "      <td>0.221898</td>\n",
              "      <td>0.141954</td>\n",
              "      <td>0.101666</td>\n",
              "      <td>0.077392</td>\n",
              "      <td>A</td>\n",
              "    </tr>\n",
              "  </tbody>\n",
              "</table>\n",
              "</div>\n",
              "    <div class=\"colab-df-buttons\">\n",
              "\n",
              "  <div class=\"colab-df-container\">\n",
              "    <button class=\"colab-df-convert\" onclick=\"convertToInteractive('df-20cc64e7-5be4-461a-9043-dbd8ed786b5c')\"\n",
              "            title=\"Convert this dataframe to an interactive table.\"\n",
              "            style=\"display:none;\">\n",
              "\n",
              "  <svg xmlns=\"http://www.w3.org/2000/svg\" height=\"24px\" viewBox=\"0 -960 960 960\">\n",
              "    <path d=\"M120-120v-720h720v720H120Zm60-500h600v-160H180v160Zm220 220h160v-160H400v160Zm0 220h160v-160H400v160ZM180-400h160v-160H180v160Zm440 0h160v-160H620v160ZM180-180h160v-160H180v160Zm440 0h160v-160H620v160Z\"/>\n",
              "  </svg>\n",
              "    </button>\n",
              "\n",
              "  <style>\n",
              "    .colab-df-container {\n",
              "      display:flex;\n",
              "      gap: 12px;\n",
              "    }\n",
              "\n",
              "    .colab-df-convert {\n",
              "      background-color: #E8F0FE;\n",
              "      border: none;\n",
              "      border-radius: 50%;\n",
              "      cursor: pointer;\n",
              "      display: none;\n",
              "      fill: #1967D2;\n",
              "      height: 32px;\n",
              "      padding: 0 0 0 0;\n",
              "      width: 32px;\n",
              "    }\n",
              "\n",
              "    .colab-df-convert:hover {\n",
              "      background-color: #E2EBFA;\n",
              "      box-shadow: 0px 1px 2px rgba(60, 64, 67, 0.3), 0px 1px 3px 1px rgba(60, 64, 67, 0.15);\n",
              "      fill: #174EA6;\n",
              "    }\n",
              "\n",
              "    .colab-df-buttons div {\n",
              "      margin-bottom: 4px;\n",
              "    }\n",
              "\n",
              "    [theme=dark] .colab-df-convert {\n",
              "      background-color: #3B4455;\n",
              "      fill: #D2E3FC;\n",
              "    }\n",
              "\n",
              "    [theme=dark] .colab-df-convert:hover {\n",
              "      background-color: #434B5C;\n",
              "      box-shadow: 0px 1px 3px 1px rgba(0, 0, 0, 0.15);\n",
              "      filter: drop-shadow(0px 1px 2px rgba(0, 0, 0, 0.3));\n",
              "      fill: #FFFFFF;\n",
              "    }\n",
              "  </style>\n",
              "\n",
              "    <script>\n",
              "      const buttonEl =\n",
              "        document.querySelector('#df-20cc64e7-5be4-461a-9043-dbd8ed786b5c button.colab-df-convert');\n",
              "      buttonEl.style.display =\n",
              "        google.colab.kernel.accessAllowed ? 'block' : 'none';\n",
              "\n",
              "      async function convertToInteractive(key) {\n",
              "        const element = document.querySelector('#df-20cc64e7-5be4-461a-9043-dbd8ed786b5c');\n",
              "        const dataTable =\n",
              "          await google.colab.kernel.invokeFunction('convertToInteractive',\n",
              "                                                    [key], {});\n",
              "        if (!dataTable) return;\n",
              "\n",
              "        const docLinkHtml = 'Like what you see? Visit the ' +\n",
              "          '<a target=\"_blank\" href=https://colab.research.google.com/notebooks/data_table.ipynb>data table notebook</a>'\n",
              "          + ' to learn more about interactive tables.';\n",
              "        element.innerHTML = '';\n",
              "        dataTable['output_type'] = 'display_data';\n",
              "        await google.colab.output.renderOutput(dataTable, element);\n",
              "        const docLink = document.createElement('div');\n",
              "        docLink.innerHTML = docLinkHtml;\n",
              "        element.appendChild(docLink);\n",
              "      }\n",
              "    </script>\n",
              "  </div>\n",
              "\n",
              "\n",
              "<div id=\"df-acc9ba87-3efa-4f31-a6dd-3e74569d28d0\">\n",
              "  <button class=\"colab-df-quickchart\" onclick=\"quickchart('df-acc9ba87-3efa-4f31-a6dd-3e74569d28d0')\"\n",
              "            title=\"Suggest charts\"\n",
              "            style=\"display:none;\">\n",
              "\n",
              "<svg xmlns=\"http://www.w3.org/2000/svg\" height=\"24px\"viewBox=\"0 0 24 24\"\n",
              "     width=\"24px\">\n",
              "    <g>\n",
              "        <path d=\"M19 3H5c-1.1 0-2 .9-2 2v14c0 1.1.9 2 2 2h14c1.1 0 2-.9 2-2V5c0-1.1-.9-2-2-2zM9 17H7v-7h2v7zm4 0h-2V7h2v10zm4 0h-2v-4h2v4z\"/>\n",
              "    </g>\n",
              "</svg>\n",
              "  </button>\n",
              "\n",
              "<style>\n",
              "  .colab-df-quickchart {\n",
              "      --bg-color: #E8F0FE;\n",
              "      --fill-color: #1967D2;\n",
              "      --hover-bg-color: #E2EBFA;\n",
              "      --hover-fill-color: #174EA6;\n",
              "      --disabled-fill-color: #AAA;\n",
              "      --disabled-bg-color: #DDD;\n",
              "  }\n",
              "\n",
              "  [theme=dark] .colab-df-quickchart {\n",
              "      --bg-color: #3B4455;\n",
              "      --fill-color: #D2E3FC;\n",
              "      --hover-bg-color: #434B5C;\n",
              "      --hover-fill-color: #FFFFFF;\n",
              "      --disabled-bg-color: #3B4455;\n",
              "      --disabled-fill-color: #666;\n",
              "  }\n",
              "\n",
              "  .colab-df-quickchart {\n",
              "    background-color: var(--bg-color);\n",
              "    border: none;\n",
              "    border-radius: 50%;\n",
              "    cursor: pointer;\n",
              "    display: none;\n",
              "    fill: var(--fill-color);\n",
              "    height: 32px;\n",
              "    padding: 0;\n",
              "    width: 32px;\n",
              "  }\n",
              "\n",
              "  .colab-df-quickchart:hover {\n",
              "    background-color: var(--hover-bg-color);\n",
              "    box-shadow: 0 1px 2px rgba(60, 64, 67, 0.3), 0 1px 3px 1px rgba(60, 64, 67, 0.15);\n",
              "    fill: var(--button-hover-fill-color);\n",
              "  }\n",
              "\n",
              "  .colab-df-quickchart-complete:disabled,\n",
              "  .colab-df-quickchart-complete:disabled:hover {\n",
              "    background-color: var(--disabled-bg-color);\n",
              "    fill: var(--disabled-fill-color);\n",
              "    box-shadow: none;\n",
              "  }\n",
              "\n",
              "  .colab-df-spinner {\n",
              "    border: 2px solid var(--fill-color);\n",
              "    border-color: transparent;\n",
              "    border-bottom-color: var(--fill-color);\n",
              "    animation:\n",
              "      spin 1s steps(1) infinite;\n",
              "  }\n",
              "\n",
              "  @keyframes spin {\n",
              "    0% {\n",
              "      border-color: transparent;\n",
              "      border-bottom-color: var(--fill-color);\n",
              "      border-left-color: var(--fill-color);\n",
              "    }\n",
              "    20% {\n",
              "      border-color: transparent;\n",
              "      border-left-color: var(--fill-color);\n",
              "      border-top-color: var(--fill-color);\n",
              "    }\n",
              "    30% {\n",
              "      border-color: transparent;\n",
              "      border-left-color: var(--fill-color);\n",
              "      border-top-color: var(--fill-color);\n",
              "      border-right-color: var(--fill-color);\n",
              "    }\n",
              "    40% {\n",
              "      border-color: transparent;\n",
              "      border-right-color: var(--fill-color);\n",
              "      border-top-color: var(--fill-color);\n",
              "    }\n",
              "    60% {\n",
              "      border-color: transparent;\n",
              "      border-right-color: var(--fill-color);\n",
              "    }\n",
              "    80% {\n",
              "      border-color: transparent;\n",
              "      border-right-color: var(--fill-color);\n",
              "      border-bottom-color: var(--fill-color);\n",
              "    }\n",
              "    90% {\n",
              "      border-color: transparent;\n",
              "      border-bottom-color: var(--fill-color);\n",
              "    }\n",
              "  }\n",
              "</style>\n",
              "\n",
              "  <script>\n",
              "    async function quickchart(key) {\n",
              "      const quickchartButtonEl =\n",
              "        document.querySelector('#' + key + ' button');\n",
              "      quickchartButtonEl.disabled = true;  // To prevent multiple clicks.\n",
              "      quickchartButtonEl.classList.add('colab-df-spinner');\n",
              "      try {\n",
              "        const charts = await google.colab.kernel.invokeFunction(\n",
              "            'suggestCharts', [key], {});\n",
              "      } catch (error) {\n",
              "        console.error('Error during call to suggestCharts:', error);\n",
              "      }\n",
              "      quickchartButtonEl.classList.remove('colab-df-spinner');\n",
              "      quickchartButtonEl.classList.add('colab-df-quickchart-complete');\n",
              "    }\n",
              "    (() => {\n",
              "      let quickchartButtonEl =\n",
              "        document.querySelector('#df-acc9ba87-3efa-4f31-a6dd-3e74569d28d0 button');\n",
              "      quickchartButtonEl.style.display =\n",
              "        google.colab.kernel.accessAllowed ? 'block' : 'none';\n",
              "    })();\n",
              "  </script>\n",
              "</div>\n",
              "    </div>\n",
              "  </div>\n"
            ],
            "application/vnd.google.colaboratory.intrinsic+json": {
              "type": "dataframe",
              "variable_name": "data",
              "summary": "{\n  \"name\": \"data\",\n  \"rows\": 301,\n  \"fields\": [\n    {\n      \"column\": 0,\n      \"properties\": {\n        \"dtype\": \"string\",\n        \"num_unique_values\": 301,\n        \"samples\": [\n          0.45564526794440025,\n          0.44228807326549874,\n          0.4431779675583296\n        ],\n        \"semantic_type\": \"\",\n        \"description\": \"\"\n      }\n    },\n    {\n      \"column\": 1,\n      \"properties\": {\n        \"dtype\": \"string\",\n        \"num_unique_values\": 301,\n        \"samples\": [\n          0.22134903466700698,\n          0.2197669975644297,\n          0.22006932064782936\n        ],\n        \"semantic_type\": \"\",\n        \"description\": \"\"\n      }\n    },\n    {\n      \"column\": 2,\n      \"properties\": {\n        \"dtype\": \"string\",\n        \"num_unique_values\": 301,\n        \"samples\": [\n          0.14241003012937375,\n          0.14511696714975417,\n          0.14458571582135754\n        ],\n        \"semantic_type\": \"\",\n        \"description\": \"\"\n      }\n    },\n    {\n      \"column\": 3,\n      \"properties\": {\n        \"dtype\": \"string\",\n        \"num_unique_values\": 301,\n        \"samples\": [\n          0.10324753340336369,\n          0.10796374431638095,\n          0.10761752288907331\n        ],\n        \"semantic_type\": \"\",\n        \"description\": \"\"\n      }\n    },\n    {\n      \"column\": 4,\n      \"properties\": {\n        \"dtype\": \"string\",\n        \"num_unique_values\": 301,\n        \"samples\": [\n          0.07734813385585539,\n          0.08486421770393651,\n          0.08454947308341014\n        ],\n        \"semantic_type\": \"\",\n        \"description\": \"\"\n      }\n    },\n    {\n      \"column\": 5,\n      \"properties\": {\n        \"dtype\": \"category\",\n        \"num_unique_values\": 3,\n        \"samples\": [\n          \"kelas\",\n          \"A\",\n          \"E\"\n        ],\n        \"semantic_type\": \"\",\n        \"description\": \"\"\n      }\n    }\n  ]\n}"
            }
          },
          "metadata": {},
          "execution_count": 4
        }
      ]
    },
    {
      "cell_type": "markdown",
      "source": [
        "##10-fold_cross-validation_USING_SVM"
      ],
      "metadata": {
        "id": "uqt_tKlwBE9Y"
      }
    },
    {
      "cell_type": "code",
      "source": [
        "import pandas as pd\n",
        "import numpy as np\n",
        "from sklearn.model_selection import cross_val_score, KFold\n",
        "from sklearn.svm import SVC\n",
        "from sklearn.metrics import accuracy_score, precision_score, recall_score, f1_score, confusion_matrix\n",
        "\n",
        "# Load the data\n",
        "path = \"/content/drive/MyDrive/Tugas PSSO/CPA3.xlsx\"\n",
        "data = pd.read_excel(path)\n",
        "\n",
        "# Prepare the data\n",
        "X = data.iloc[:, :-1]\n",
        "y = data.iloc[:, -1]\n",
        "\n",
        "# Initialize the model and cross-validation\n",
        "model = SVC(kernel='linear')\n",
        "k_fold = KFold(n_splits=10, shuffle=True, random_state=42)\n",
        "\n",
        "# Perform cross-validation\n",
        "scores = cross_val_score(model, X, y, cv=k_fold)\n",
        "\n",
        "# Fit the model\n",
        "model.fit(X, y)\n",
        "\n",
        "# Make predictions\n",
        "y_pred = model.predict(X)\n",
        "\n",
        "# Calculate metrics\n",
        "confusion_matrix = confusion_matrix(y, y_pred)\n",
        "sensitivity = (confusion_matrix[1, 1] + 1) / (confusion_matrix[1, 1] + confusion_matrix[0, 1] + 2)\n",
        "specificity = (confusion_matrix[0, 0] + 1) / (confusion_matrix[0, 0] + confusion_matrix[1, 0] + 2)\n",
        "accuracy = (confusion_matrix[0, 0] + confusion_matrix[1, 1] + 2) / (confusion_matrix[0, 0] + confusion_matrix[0, 1] + confusion_matrix[1, 0] + confusion_matrix[1, 1] + 4)\n",
        "f1_score = f1_score(y, y_pred, average='weighted', pos_label=1)\n",
        "\n",
        "# Print the results\n",
        "print(\"10-fold_cross-validation_USING_SVM\")\n",
        "print(\"Sensitivity:\", sensitivity)\n",
        "print(\"Specificity:\", specificity)\n",
        "print(\"Accuracy:\", accuracy)\n",
        "print(\"F1-Score:\", f1_score)"
      ],
      "metadata": {
        "id": "JphBN4LW4XYb",
        "colab": {
          "base_uri": "https://localhost:8080/"
        },
        "outputId": "f6f213fe-29ed-4c52-ae91-6661bae3baeb"
      },
      "execution_count": 7,
      "outputs": [
        {
          "output_type": "stream",
          "name": "stdout",
          "text": [
            "10-fold_cross-validation_USING_SVM\n",
            "Sensitivity: 0.5\n",
            "Specificity: 0.6655629139072847\n",
            "Accuracy: 0.6644736842105263\n",
            "F1-Score: 0.5333333333333333\n"
          ]
        }
      ]
    },
    {
      "cell_type": "markdown",
      "source": [
        "##10-fold_cross-validation_USING_K-NN"
      ],
      "metadata": {
        "id": "2jwzmD1gBS-p"
      }
    },
    {
      "cell_type": "code",
      "source": [
        "import pandas as pd\n",
        "import numpy as np\n",
        "from sklearn.model_selection import cross_val_score, KFold\n",
        "from sklearn.neighbors import KNeighborsClassifier\n",
        "from sklearn.metrics import accuracy_score, precision_score, recall_score, f1_score, confusion_matrix\n",
        "\n",
        "# Load the data\n",
        "path = \"/content/drive/MyDrive/Tugas PSSO/CPA3.xlsx\"\n",
        "data = pd.read_excel(path)\n",
        "\n",
        "# Prepare the data\n",
        "X = data.iloc[:, :-1]\n",
        "y = data.iloc[:, -1]\n",
        "\n",
        "# Initialize the model and cross-validation\n",
        "model = KNeighborsClassifier(n_neighbors=5)\n",
        "k_fold = KFold(n_splits=10, shuffle=True, random_state=42)\n",
        "\n",
        "# Perform cross-validation\n",
        "scores = cross_val_score(model, X, y, cv=k_fold)\n",
        "\n",
        "# Fit the model\n",
        "model.fit(X, y)\n",
        "\n",
        "# Make predictions\n",
        "y_pred = model.predict(X)\n",
        "\n",
        "# Calculate metrics\n",
        "confusion_matrix = confusion_matrix(y, y_pred)\n",
        "sensitivity = confusion_matrix[1, 1] / (confusion_matrix[1, 1] + confusion_matrix[0, 1])\n",
        "specificity = confusion_matrix[0, 0] / (confusion_matrix[0, 0] + confusion_matrix[1, 0])\n",
        "accuracy = (confusion_matrix[0, 0] + confusion_matrix[1, 1]) / (confusion_matrix[0, 0] + confusion_matrix[0, 1] + confusion_matrix[1, 0] + confusion_matrix[1, 1])\n",
        "f1_score = f1_score(y, y_pred, average='weighted', pos_label=1)\n",
        "\n",
        "# Print the results\n",
        "print(\"10-fold_cross-validation_USING_K-NN\")\n",
        "print(\"Sensitivity:\", sensitivity)\n",
        "print(\"Specificity:\", specificity)\n",
        "print(\"Accuracy:\", accuracy)\n",
        "print(\"F1-Score:\", f1_score)"
      ],
      "metadata": {
        "colab": {
          "base_uri": "https://localhost:8080/"
        },
        "id": "JermrFgz9CUO",
        "outputId": "c77de795-278a-4379-919d-e2148f136d2c"
      },
      "execution_count": 12,
      "outputs": [
        {
          "output_type": "stream",
          "name": "stdout",
          "text": [
            "10-fold_cross-validation_USING_K-NN\n",
            "Sensitivity: 0.7654320987654321\n",
            "Specificity: 0.8264840182648402\n",
            "Accuracy: 0.81\n",
            "F1-Score: 0.8043355002043804\n"
          ]
        }
      ]
    },
    {
      "cell_type": "markdown",
      "source": [
        "##75% training, 25% testing_USING_SVM"
      ],
      "metadata": {
        "id": "_QlT8wUbBYIb"
      }
    },
    {
      "cell_type": "code",
      "source": [
        "import pandas as pd\n",
        "import numpy as np\n",
        "from sklearn.model_selection import train_test_split\n",
        "from sklearn.svm import SVC\n",
        "from sklearn.metrics import accuracy_score, precision_score, recall_score, f1_score, confusion_matrix\n",
        "\n",
        "# Load the data\n",
        "path = \"/content/drive/MyDrive/Tugas PSSO/CPA3.xlsx\"\n",
        "data = pd.read_excel(path)\n",
        "\n",
        "# Prepare the data\n",
        "X = data.iloc[:, :-1]\n",
        "y = data.iloc[:, -1]\n",
        "\n",
        "# Split the data into training and testing sets\n",
        "X_train, X_test, y_train, y_test = train_test_split(X, y, test_size=0.25, random_state=42)\n",
        "\n",
        "# Initialize the model\n",
        "model = SVC(kernel='linear')\n",
        "\n",
        "# Fit the model on the training data\n",
        "model.fit(X_train, y_train)\n",
        "\n",
        "# Make predictions on the testing data\n",
        "y_pred = model.predict(X_test)\n",
        "\n",
        "# Calculate metrics\n",
        "confusion_matrix = confusion_matrix(y_test, y_pred)\n",
        "\n",
        "# Calculate Sensitivity with a check for division by zero\n",
        "if confusion_matrix[1, 1] + confusion_matrix[0, 1] != 0:\n",
        "    sensitivity = np.divide(confusion_matrix[1, 1], confusion_matrix[1, 1] + confusion_matrix[0, 1])\n",
        "else:\n",
        "    sensitivity = 0.0\n",
        "\n",
        "specificity = 1.0 if confusion_matrix[0, 0] == 0 else np.divide(confusion_matrix[0, 0], confusion_matrix[0, 0] + confusion_matrix[1, 0])\n",
        "accuracy = np.divide(confusion_matrix[0, 0] + confusion_matrix[1, 1], confusion_matrix[0, 0] + confusion_matrix[0, 1] + confusion_matrix[1, 0] + confusion_matrix[1, 1])\n",
        "f1_score = f1_score(y_test, y_pred, average='weighted', pos_label=1)\n",
        "\n",
        "# Print the results\n",
        "print(\"75%_training_25%_testing_USING_SVM\")\n",
        "print(\"Sensitivity:\", sensitivity)\n",
        "print(\"Specificity:\", specificity)\n",
        "print(\"Accuracy:\", accuracy)\n",
        "print(\"F1-Score:\", f1_score)"
      ],
      "metadata": {
        "colab": {
          "base_uri": "https://localhost:8080/"
        },
        "id": "W1Z46SnEBcSt",
        "outputId": "861224d7-1e60-416e-973f-d5be0c7bb1d1"
      },
      "execution_count": 15,
      "outputs": [
        {
          "output_type": "stream",
          "name": "stdout",
          "text": [
            "75%_training_25%_testing_USING_SVM\n",
            "Sensitivity: 0.0\n",
            "Specificity: 0.6666666666666666\n",
            "Accuracy: 0.6666666666666666\n",
            "F1-Score: 0.5333333333333333\n"
          ]
        }
      ]
    },
    {
      "cell_type": "markdown",
      "source": [
        "## 75% training, 25% testing using K-NN"
      ],
      "metadata": {
        "id": "wmIprRHJH4KR"
      }
    },
    {
      "cell_type": "code",
      "source": [
        "import pandas as pd\n",
        "import numpy as np\n",
        "from sklearn.model_selection import train_test_split\n",
        "from sklearn.neighbors import KNeighborsClassifier\n",
        "from sklearn.metrics import accuracy_score, precision_score, recall_score, f1_score, confusion_matrix\n",
        "\n",
        "# Load the data\n",
        "path = \"/content/drive/MyDrive/Tugas PSSO/CPA3.xlsx\"\n",
        "data = pd.read_excel(path)\n",
        "\n",
        "# Prepare the data\n",
        "X = data.iloc[:, :-1]\n",
        "y = data.iloc[:, -1]\n",
        "\n",
        "# Split the data into training and testing sets\n",
        "X_train, X_test, y_train, y_test = train_test_split(X, y, test_size=0.25, random_state=42)\n",
        "\n",
        "# Initialize the model\n",
        "model = KNeighborsClassifier(n_neighbors=5)\n",
        "\n",
        "# Fit the model on the training data\n",
        "model.fit(X_train, y_train)\n",
        "\n",
        "# Make predictions on the testing data\n",
        "y_pred = model.predict(X_test)\n",
        "\n",
        "# Calculate metrics\n",
        "confusion_matrix = confusion_matrix(y_test, y_pred)\n",
        "sensitivity = confusion_matrix[1, 1] / (confusion_matrix[1, 1] + confusion_matrix[0, 1])\n",
        "specificity = confusion_matrix[0, 0] / (confusion_matrix[0, 0] + confusion_matrix[1, 0])\n",
        "accuracy = (confusion_matrix[0, 0] + confusion_matrix[1, 1]) / (confusion_matrix[0, 0] + confusion_matrix[0, 1] + confusion_matrix[1, 0] + confusion_matrix[1, 1])\n",
        "f1_score = f1_score(y_test, y_pred, average='weighted', pos_label=1)\n",
        "\n",
        "# Print the results\n",
        "print(\"75%_training_25%_testing_USING_K-NN\")\n",
        "print(\"Sensitivity:\", sensitivity)\n",
        "print(\"Specificity:\", specificity)\n",
        "print(\"Accuracy:\", accuracy)\n",
        "print(\"F1-Score:\", f1_score)"
      ],
      "metadata": {
        "colab": {
          "base_uri": "https://localhost:8080/"
        },
        "id": "hqmJ4WqFH765",
        "outputId": "f2a0f533-940f-46c1-acaa-4c0135cb1dec"
      },
      "execution_count": 16,
      "outputs": [
        {
          "output_type": "stream",
          "name": "stdout",
          "text": [
            "75%_training_25%_testing_USING_K-NN\n",
            "Sensitivity: 0.7222222222222222\n",
            "Specificity: 0.7894736842105263\n",
            "Accuracy: 0.7733333333333333\n",
            "F1-Score: 0.762298051148301\n"
          ]
        }
      ]
    },
    {
      "cell_type": "markdown",
      "source": [
        "##50% training, 25% validation, dan 25% testing using SVM\n"
      ],
      "metadata": {
        "id": "SYGlcb_nLK_p"
      }
    },
    {
      "cell_type": "code",
      "source": [
        "import pandas as pd\n",
        "import numpy as np\n",
        "from sklearn.model_selection import train_test_split\n",
        "from sklearn.svm import SVC\n",
        "from sklearn.metrics import accuracy_score, precision_score, recall_score, f1_score, confusion_matrix\n",
        "\n",
        "# Load the data\n",
        "path = \"/content/drive/MyDrive/Tugas PSSO/CPA3.xlsx\"\n",
        "data = pd.read_excel(path)\n",
        "\n",
        "# Prepare the data\n",
        "X = data.iloc[:, :-1]\n",
        "y = data.iloc[:, -1]\n",
        "\n",
        "# Split the data into training, validation, and testing sets\n",
        "X_train, X_val, y_train, y_val = train_test_split(X, y, test_size=0.25, random_state=42)\n",
        "X_test, X_val, y_test, y_val = train_test_split(X_val, y_val, test_size=0.25, random_state=42)\n",
        "\n",
        "# Initialize the model\n",
        "model = SVC(kernel='linear')\n",
        "\n",
        "# Fit the model on the training data\n",
        "model.fit(X_train, y_train)\n",
        "\n",
        "# Make predictions on the validation data\n",
        "y_pred = model.predict(X_val)\n",
        "\n",
        "# Calculate metrics\n",
        "confusion_matrix = confusion_matrix(y_val, y_pred)\n",
        "sensitivity = confusion_matrix[1, 1] / (confusion_matrix[1, 1] + confusion_matrix[0, 1])\n",
        "specificity = 1.0 if confusion_matrix[0, 0] == 0 else confusion_matrix[0, 0] / (confusion_matrix[0, 0] + confusion_matrix[1, 0])\n",
        "accuracy = (confusion_matrix[0, 0] + confusion_matrix[1, 1]) / (confusion_matrix[0, 0] + confusion_matrix[0, 1] + confusion_matrix[1, 0] + confusion_matrix[1, 1])\n",
        "f1_score = f1_score(y_val, y_pred, average='weighted', pos_label=1)\n",
        "\n",
        "# Print the results\n",
        "print(\"50%_training_25%_validation_25%_testing_USING_SVM\")\n",
        "print(\"Sensitivity:\", sensitivity)\n",
        "print(\"Specificity:\", specificity)\n",
        "print(\"Accuracy:\", accuracy)\n",
        "print(\"F1-Score:\", f1_score)"
      ],
      "metadata": {
        "colab": {
          "base_uri": "https://localhost:8080/"
        },
        "id": "Vd0I_qzIIuU2",
        "outputId": "6b6b5bc7-f75c-440c-f699-75e691b71094"
      },
      "execution_count": 17,
      "outputs": [
        {
          "output_type": "stream",
          "name": "stdout",
          "text": [
            "50%_training_25%_validation_25%_testing_USING_SVM\n",
            "Sensitivity: nan\n",
            "Specificity: 0.5263157894736842\n",
            "Accuracy: 0.5263157894736842\n",
            "F1-Score: 0.3629764065335753\n"
          ]
        },
        {
          "output_type": "stream",
          "name": "stderr",
          "text": [
            "<ipython-input-17-275ba493c372>:30: RuntimeWarning: invalid value encountered in scalar divide\n",
            "  sensitivity = confusion_matrix[1, 1] / (confusion_matrix[1, 1] + confusion_matrix[0, 1])\n"
          ]
        }
      ]
    },
    {
      "cell_type": "markdown",
      "source": [
        "##50% training, 25% validation, dan 25% testing using K-NN\n"
      ],
      "metadata": {
        "id": "NRoQmKpuOGds"
      }
    },
    {
      "cell_type": "code",
      "source": [
        "import pandas as pd\n",
        "import numpy as np\n",
        "from sklearn.model_selection import train_test_split\n",
        "from sklearn.neighbors import KNeighborsClassifier\n",
        "from sklearn.metrics import accuracy_score, precision_score, recall_score, f1_score, confusion_matrix\n",
        "\n",
        "# Load the data\n",
        "path = \"/content/drive/MyDrive/Tugas PSSO/CPA3.xlsx\"\n",
        "data = pd.read_excel(path)\n",
        "\n",
        "# Prepare the data\n",
        "X = data.iloc[:, :-1]\n",
        "y = data.iloc[:, -1]\n",
        "\n",
        "# Split the data into training, validation, and testing sets\n",
        "X_train, X_test, y_train, y_test = train_test_split(X, y, test_size=0.25, random_state=42)\n",
        "X_train, X_val, y_train, y_val = train_test_split(X_train, y_train, test_size=0.25, random_state=42)\n",
        "\n",
        "# Initialize the model\n",
        "model = KNeighborsClassifier(n_neighbors=5)\n",
        "\n",
        "# Fit the model on the training data\n",
        "model.fit(X_train, y_train)\n",
        "\n",
        "# Make predictions on the validation data\n",
        "y_pred = model.predict(X_val)\n",
        "\n",
        "# Calculate metrics\n",
        "confusion_matrix = confusion_matrix(y_val, y_pred)\n",
        "sensitivity = confusion_matrix[1, 1] / (confusion_matrix[1, 1] + confusion_matrix[0, 1])\n",
        "specificity = confusion_matrix[0, 0] / (confusion_matrix[0, 0] + confusion_matrix[1, 0])\n",
        "accuracy = (confusion_matrix[0, 0] + confusion_matrix[1, 1]) / (confusion_matrix[0, 0] + confusion_matrix[0, 1] + confusion_matrix[1, 0] + confusion_matrix[1, 1])\n",
        "f1_score = f1_score(y_val, y_pred, average='weighted', pos_label=1)\n",
        "\n",
        "# Print the results\n",
        "print(\"50%_training_25%_validation_25%_testing_USING_K-NN\")\n",
        "print(\"Sensitivity:\", sensitivity)\n",
        "print(\"Specificity:\", specificity)\n",
        "print(\"Accuracy:\", accuracy)\n",
        "print(\"F1-Score:\", f1_score)"
      ],
      "metadata": {
        "colab": {
          "base_uri": "https://localhost:8080/"
        },
        "id": "n3-BUwjDI8uw",
        "outputId": "13dca3f3-817c-4f49-8299-cb5b5536d494"
      },
      "execution_count": 18,
      "outputs": [
        {
          "output_type": "stream",
          "name": "stdout",
          "text": [
            "50%_training_25%_validation_25%_testing_USING_K-NN\n",
            "Sensitivity: 0.6666666666666666\n",
            "Specificity: 0.8888888888888888\n",
            "Accuracy: 0.8070175438596491\n",
            "F1-Score: 0.8105802968960863\n"
          ]
        }
      ]
    }
  ]
}